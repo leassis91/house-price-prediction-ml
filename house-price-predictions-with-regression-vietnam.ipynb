{
 "cells": [
  {
   "cell_type": "code",
   "execution_count": 1,
   "id": "3ce9e2d6",
   "metadata": {
    "_cell_guid": "b1076dfc-b9ad-4769-8c92-a6c4dae69d19",
    "_uuid": "8f2839f25d086af736a60e9eeb907d3b93b6e0e5",
    "execution": {
     "iopub.execute_input": "2021-12-04T15:52:07.956807Z",
     "iopub.status.busy": "2021-12-04T15:52:07.955801Z",
     "iopub.status.idle": "2021-12-04T15:52:07.966666Z",
     "shell.execute_reply": "2021-12-04T15:52:07.967202Z",
     "shell.execute_reply.started": "2021-12-04T15:22:54.503575Z"
    },
    "papermill": {
     "duration": 0.049477,
     "end_time": "2021-12-04T15:52:07.967480",
     "exception": false,
     "start_time": "2021-12-04T15:52:07.918003",
     "status": "completed"
    },
    "tags": []
   },
   "outputs": [
    {
     "name": "stdout",
     "output_type": "stream",
     "text": [
      "/kaggle/input/house-prices-advanced-regression-techniques/sample_submission.csv\n",
      "/kaggle/input/house-prices-advanced-regression-techniques/data_description.txt\n",
      "/kaggle/input/house-prices-advanced-regression-techniques/train.csv\n",
      "/kaggle/input/house-prices-advanced-regression-techniques/test.csv\n"
     ]
    }
   ],
   "source": [
    "# This Python 3 environment comes with many helpful analytics libraries installed\n",
    "# It is defined by the kaggle/python Docker image: https://github.com/kaggle/docker-python\n",
    "# For example, here's several helpful packages to load\n",
    "\n",
    "import numpy as np # linear algebra\n",
    "import pandas as pd # data processing, CSV file I/O (e.g. pd.read_csv)\n",
    "\n",
    "# Input data files are available in the read-only \"../input/\" directory\n",
    "# For example, running this (by clicking run or pressing Shift+Enter) will list all files under the input directory\n",
    "\n",
    "import os\n",
    "for dirname, _, filenames in os.walk('/kaggle/input'):\n",
    "    for filename in filenames:\n",
    "        print(os.path.join(dirname, filename))\n",
    "\n",
    "# You can write up to 20GB to the current directory (/kaggle/working/) that gets preserved as output when you create a version using \"Save & Run All\" \n",
    "# You can also write temporary files to /kaggle/temp/, but they won't be saved outside of the current session"
   ]
  },
  {
   "cell_type": "markdown",
   "id": "b545986d",
   "metadata": {
    "papermill": {
     "duration": 0.027058,
     "end_time": "2021-12-04T15:52:08.022181",
     "exception": false,
     "start_time": "2021-12-04T15:52:07.995123",
     "status": "completed"
    },
    "tags": []
   },
   "source": [
    "## House Price Prediction with Regression and Random Forest\n",
    "\n",
    "\n",
    "### Importing Libraries"
   ]
  },
  {
   "cell_type": "code",
   "execution_count": 2,
   "id": "f01ca709",
   "metadata": {
    "execution": {
     "iopub.execute_input": "2021-12-04T15:52:08.080319Z",
     "iopub.status.busy": "2021-12-04T15:52:08.079332Z",
     "iopub.status.idle": "2021-12-04T15:52:09.493902Z",
     "shell.execute_reply": "2021-12-04T15:52:09.493308Z",
     "shell.execute_reply.started": "2021-12-04T15:22:56.390950Z"
    },
    "papermill": {
     "duration": 1.444453,
     "end_time": "2021-12-04T15:52:09.494078",
     "exception": false,
     "start_time": "2021-12-04T15:52:08.049625",
     "status": "completed"
    },
    "tags": []
   },
   "outputs": [],
   "source": [
    "import matplotlib.pyplot as plt\n",
    "import seaborn as sns\n",
    "\n",
    "from sklearn.linear_model import LinearRegression, Ridge, Lasso\n",
    "from sklearn.ensemble import RandomForestRegressor\n",
    "from sklearn.model_selection import train_test_split, cross_val_score, GridSearchCV\n"
   ]
  },
  {
   "cell_type": "markdown",
   "id": "af5f5ea0",
   "metadata": {
    "papermill": {
     "duration": 0.026706,
     "end_time": "2021-12-04T15:52:09.549332",
     "exception": false,
     "start_time": "2021-12-04T15:52:09.522626",
     "status": "completed"
    },
    "tags": []
   },
   "source": [
    "## Loading Data"
   ]
  },
  {
   "cell_type": "code",
   "execution_count": 3,
   "id": "3c26b22d",
   "metadata": {
    "execution": {
     "iopub.execute_input": "2021-12-04T15:52:09.607130Z",
     "iopub.status.busy": "2021-12-04T15:52:09.606119Z",
     "iopub.status.idle": "2021-12-04T15:52:09.651369Z",
     "shell.execute_reply": "2021-12-04T15:52:09.651857Z",
     "shell.execute_reply.started": "2021-12-04T15:22:57.826122Z"
    },
    "papermill": {
     "duration": 0.075655,
     "end_time": "2021-12-04T15:52:09.652065",
     "exception": false,
     "start_time": "2021-12-04T15:52:09.576410",
     "status": "completed"
    },
    "tags": []
   },
   "outputs": [
    {
     "name": "stdout",
     "output_type": "stream",
     "text": [
      "(1460, 81)\n"
     ]
    }
   ],
   "source": [
    "df = pd.read_csv('/kaggle/input/house-prices-advanced-regression-techniques/train.csv')\n",
    "print(df.shape)"
   ]
  },
  {
   "cell_type": "markdown",
   "id": "17126298",
   "metadata": {
    "papermill": {
     "duration": 0.026792,
     "end_time": "2021-12-04T15:52:09.706077",
     "exception": false,
     "start_time": "2021-12-04T15:52:09.679285",
     "status": "completed"
    },
    "tags": []
   },
   "source": [
    "Our dataset has 1460 rows and 81 columns."
   ]
  },
  {
   "cell_type": "markdown",
   "id": "48fd0eb6",
   "metadata": {
    "papermill": {
     "duration": 0.029358,
     "end_time": "2021-12-04T15:52:09.763697",
     "exception": false,
     "start_time": "2021-12-04T15:52:09.734339",
     "status": "completed"
    },
    "tags": []
   },
   "source": [
    "## Exploring and Cleaning Data\n",
    "\n",
    "We can see some features are numeric while others are text. There are also missing values in dataset."
   ]
  },
  {
   "cell_type": "code",
   "execution_count": 4,
   "id": "fe669cec",
   "metadata": {
    "execution": {
     "iopub.execute_input": "2021-12-04T15:52:09.822293Z",
     "iopub.status.busy": "2021-12-04T15:52:09.821302Z",
     "iopub.status.idle": "2021-12-04T15:52:09.865214Z",
     "shell.execute_reply": "2021-12-04T15:52:09.865712Z",
     "shell.execute_reply.started": "2021-12-04T15:22:59.324603Z"
    },
    "papermill": {
     "duration": 0.074866,
     "end_time": "2021-12-04T15:52:09.865880",
     "exception": false,
     "start_time": "2021-12-04T15:52:09.791014",
     "status": "completed"
    },
    "tags": []
   },
   "outputs": [
    {
     "data": {
      "text/html": [
       "<div>\n",
       "<style scoped>\n",
       "    .dataframe tbody tr th:only-of-type {\n",
       "        vertical-align: middle;\n",
       "    }\n",
       "\n",
       "    .dataframe tbody tr th {\n",
       "        vertical-align: top;\n",
       "    }\n",
       "\n",
       "    .dataframe thead th {\n",
       "        text-align: right;\n",
       "    }\n",
       "</style>\n",
       "<table border=\"1\" class=\"dataframe\">\n",
       "  <thead>\n",
       "    <tr style=\"text-align: right;\">\n",
       "      <th></th>\n",
       "      <th>MissValCount</th>\n",
       "    </tr>\n",
       "  </thead>\n",
       "  <tbody>\n",
       "    <tr>\n",
       "      <th>PoolQC</th>\n",
       "      <td>1453</td>\n",
       "    </tr>\n",
       "    <tr>\n",
       "      <th>MiscFeature</th>\n",
       "      <td>1406</td>\n",
       "    </tr>\n",
       "    <tr>\n",
       "      <th>Alley</th>\n",
       "      <td>1369</td>\n",
       "    </tr>\n",
       "    <tr>\n",
       "      <th>Fence</th>\n",
       "      <td>1179</td>\n",
       "    </tr>\n",
       "    <tr>\n",
       "      <th>FireplaceQu</th>\n",
       "      <td>690</td>\n",
       "    </tr>\n",
       "    <tr>\n",
       "      <th>...</th>\n",
       "      <td>...</td>\n",
       "    </tr>\n",
       "    <tr>\n",
       "      <th>ExterQual</th>\n",
       "      <td>0</td>\n",
       "    </tr>\n",
       "    <tr>\n",
       "      <th>Exterior2nd</th>\n",
       "      <td>0</td>\n",
       "    </tr>\n",
       "    <tr>\n",
       "      <th>Exterior1st</th>\n",
       "      <td>0</td>\n",
       "    </tr>\n",
       "    <tr>\n",
       "      <th>RoofMatl</th>\n",
       "      <td>0</td>\n",
       "    </tr>\n",
       "    <tr>\n",
       "      <th>SalePrice</th>\n",
       "      <td>0</td>\n",
       "    </tr>\n",
       "  </tbody>\n",
       "</table>\n",
       "<p>81 rows × 1 columns</p>\n",
       "</div>"
      ],
      "text/plain": [
       "             MissValCount\n",
       "PoolQC               1453\n",
       "MiscFeature          1406\n",
       "Alley                1369\n",
       "Fence                1179\n",
       "FireplaceQu           690\n",
       "...                   ...\n",
       "ExterQual               0\n",
       "Exterior2nd             0\n",
       "Exterior1st             0\n",
       "RoofMatl                0\n",
       "SalePrice               0\n",
       "\n",
       "[81 rows x 1 columns]"
      ]
     },
     "execution_count": 4,
     "metadata": {},
     "output_type": "execute_result"
    }
   ],
   "source": [
    "# Find columns with missing values and their percent missing\n",
    "\n",
    "df.isnull().sum()\n",
    "miss_val = df.isnull().sum().sort_values(ascending=False)\n",
    "miss_val = pd.DataFrame(data=df.isnull().sum().sort_values(ascending=False), columns=['MissValCount'])\n",
    "miss_val"
   ]
  },
  {
   "cell_type": "code",
   "execution_count": 5,
   "id": "bdd126a1",
   "metadata": {
    "execution": {
     "iopub.execute_input": "2021-12-04T15:52:09.937095Z",
     "iopub.status.busy": "2021-12-04T15:52:09.935230Z",
     "iopub.status.idle": "2021-12-04T15:52:09.945556Z",
     "shell.execute_reply": "2021-12-04T15:52:09.946052Z",
     "shell.execute_reply.started": "2021-12-04T15:23:01.343657Z"
    },
    "papermill": {
     "duration": 0.052778,
     "end_time": "2021-12-04T15:52:09.946234",
     "exception": false,
     "start_time": "2021-12-04T15:52:09.893456",
     "status": "completed"
    },
    "tags": []
   },
   "outputs": [
    {
     "data": {
      "text/html": [
       "<div>\n",
       "<style scoped>\n",
       "    .dataframe tbody tr th:only-of-type {\n",
       "        vertical-align: middle;\n",
       "    }\n",
       "\n",
       "    .dataframe tbody tr th {\n",
       "        vertical-align: top;\n",
       "    }\n",
       "\n",
       "    .dataframe thead th {\n",
       "        text-align: right;\n",
       "    }\n",
       "</style>\n",
       "<table border=\"1\" class=\"dataframe\">\n",
       "  <thead>\n",
       "    <tr style=\"text-align: right;\">\n",
       "      <th></th>\n",
       "      <th>MissValCount</th>\n",
       "      <th>Percent</th>\n",
       "    </tr>\n",
       "  </thead>\n",
       "  <tbody>\n",
       "    <tr>\n",
       "      <th>PoolQC</th>\n",
       "      <td>1453</td>\n",
       "      <td>99.52</td>\n",
       "    </tr>\n",
       "    <tr>\n",
       "      <th>MiscFeature</th>\n",
       "      <td>1406</td>\n",
       "      <td>96.30</td>\n",
       "    </tr>\n",
       "    <tr>\n",
       "      <th>Alley</th>\n",
       "      <td>1369</td>\n",
       "      <td>93.77</td>\n",
       "    </tr>\n",
       "    <tr>\n",
       "      <th>Fence</th>\n",
       "      <td>1179</td>\n",
       "      <td>80.75</td>\n",
       "    </tr>\n",
       "    <tr>\n",
       "      <th>FireplaceQu</th>\n",
       "      <td>690</td>\n",
       "      <td>47.26</td>\n",
       "    </tr>\n",
       "    <tr>\n",
       "      <th>LotFrontage</th>\n",
       "      <td>259</td>\n",
       "      <td>17.74</td>\n",
       "    </tr>\n",
       "    <tr>\n",
       "      <th>GarageYrBlt</th>\n",
       "      <td>81</td>\n",
       "      <td>5.55</td>\n",
       "    </tr>\n",
       "    <tr>\n",
       "      <th>GarageCond</th>\n",
       "      <td>81</td>\n",
       "      <td>5.55</td>\n",
       "    </tr>\n",
       "    <tr>\n",
       "      <th>GarageType</th>\n",
       "      <td>81</td>\n",
       "      <td>5.55</td>\n",
       "    </tr>\n",
       "    <tr>\n",
       "      <th>GarageFinish</th>\n",
       "      <td>81</td>\n",
       "      <td>5.55</td>\n",
       "    </tr>\n",
       "    <tr>\n",
       "      <th>GarageQual</th>\n",
       "      <td>81</td>\n",
       "      <td>5.55</td>\n",
       "    </tr>\n",
       "    <tr>\n",
       "      <th>BsmtFinType2</th>\n",
       "      <td>38</td>\n",
       "      <td>2.60</td>\n",
       "    </tr>\n",
       "    <tr>\n",
       "      <th>BsmtExposure</th>\n",
       "      <td>38</td>\n",
       "      <td>2.60</td>\n",
       "    </tr>\n",
       "    <tr>\n",
       "      <th>BsmtQual</th>\n",
       "      <td>37</td>\n",
       "      <td>2.53</td>\n",
       "    </tr>\n",
       "    <tr>\n",
       "      <th>BsmtCond</th>\n",
       "      <td>37</td>\n",
       "      <td>2.53</td>\n",
       "    </tr>\n",
       "    <tr>\n",
       "      <th>BsmtFinType1</th>\n",
       "      <td>37</td>\n",
       "      <td>2.53</td>\n",
       "    </tr>\n",
       "    <tr>\n",
       "      <th>MasVnrArea</th>\n",
       "      <td>8</td>\n",
       "      <td>0.55</td>\n",
       "    </tr>\n",
       "    <tr>\n",
       "      <th>MasVnrType</th>\n",
       "      <td>8</td>\n",
       "      <td>0.55</td>\n",
       "    </tr>\n",
       "    <tr>\n",
       "      <th>Electrical</th>\n",
       "      <td>1</td>\n",
       "      <td>0.07</td>\n",
       "    </tr>\n",
       "  </tbody>\n",
       "</table>\n",
       "</div>"
      ],
      "text/plain": [
       "              MissValCount Percent\n",
       "PoolQC                1453   99.52\n",
       "MiscFeature           1406   96.30\n",
       "Alley                 1369   93.77\n",
       "Fence                 1179   80.75\n",
       "FireplaceQu            690   47.26\n",
       "LotFrontage            259   17.74\n",
       "GarageYrBlt             81    5.55\n",
       "GarageCond              81    5.55\n",
       "GarageType              81    5.55\n",
       "GarageFinish            81    5.55\n",
       "GarageQual              81    5.55\n",
       "BsmtFinType2            38    2.60\n",
       "BsmtExposure            38    2.60\n",
       "BsmtQual                37    2.53\n",
       "BsmtCond                37    2.53\n",
       "BsmtFinType1            37    2.53\n",
       "MasVnrArea               8    0.55\n",
       "MasVnrType               8    0.55\n",
       "Electrical               1    0.07"
      ]
     },
     "execution_count": 5,
     "metadata": {},
     "output_type": "execute_result"
    }
   ],
   "source": [
    "# Add a new column to the DataFrame and fill it with the percentage of missing values\n",
    "miss_val['Percent'] = miss_val['MissValCount'].apply(lambda x: '{:.2f}'.format(float(x)/df.shape[0]*100))\n",
    "miss_val = miss_val[miss_val['MissValCount'] > 0]\n",
    "miss_val"
   ]
  },
  {
   "cell_type": "markdown",
   "id": "b3e37133",
   "metadata": {
    "papermill": {
     "duration": 0.028547,
     "end_time": "2021-12-04T15:52:10.002920",
     "exception": false,
     "start_time": "2021-12-04T15:52:09.974373",
     "status": "completed"
    },
    "tags": []
   },
   "source": [
    "We'll remove those features with a high percent ofmissing values such as PoolQC, MiscFeature, Alley, Fence and FireplaceQu. Note that the LotFrontage feature has only 16% missing. This is realtively low so we can choose to replace the NaN values with the imputed mean of the column. We will remove the remainder rows with missing values."
   ]
  },
  {
   "cell_type": "code",
   "execution_count": 6,
   "id": "7e6a71c1",
   "metadata": {
    "execution": {
     "iopub.execute_input": "2021-12-04T15:52:10.063280Z",
     "iopub.status.busy": "2021-12-04T15:52:10.062328Z",
     "iopub.status.idle": "2021-12-04T15:52:10.070802Z",
     "shell.execute_reply": "2021-12-04T15:52:10.070221Z",
     "shell.execute_reply.started": "2021-12-04T15:23:05.273317Z"
    },
    "papermill": {
     "duration": 0.039629,
     "end_time": "2021-12-04T15:52:10.070941",
     "exception": false,
     "start_time": "2021-12-04T15:52:10.031312",
     "status": "completed"
    },
    "tags": []
   },
   "outputs": [],
   "source": [
    "# drop columns with high percentage of missing values\n",
    "\n",
    "df = df.drop(columns=['PoolQC', 'Fence', 'Alley', 'MiscFeature', 'FireplaceQu'], axis=1)"
   ]
  },
  {
   "cell_type": "code",
   "execution_count": 7,
   "id": "50ad6dab",
   "metadata": {
    "execution": {
     "iopub.execute_input": "2021-12-04T15:52:10.141812Z",
     "iopub.status.busy": "2021-12-04T15:52:10.140741Z",
     "iopub.status.idle": "2021-12-04T15:52:10.145943Z",
     "shell.execute_reply": "2021-12-04T15:52:10.145397Z",
     "shell.execute_reply.started": "2021-12-04T15:23:07.401211Z"
    },
    "papermill": {
     "duration": 0.046873,
     "end_time": "2021-12-04T15:52:10.146115",
     "exception": false,
     "start_time": "2021-12-04T15:52:10.099242",
     "status": "completed"
    },
    "tags": []
   },
   "outputs": [],
   "source": [
    "# drop rows with any missing values\n",
    "df.dropna(inplace=True)"
   ]
  },
  {
   "cell_type": "code",
   "execution_count": 8,
   "id": "95883bd1",
   "metadata": {
    "execution": {
     "iopub.execute_input": "2021-12-04T15:52:10.206391Z",
     "iopub.status.busy": "2021-12-04T15:52:10.205400Z",
     "iopub.status.idle": "2021-12-04T15:52:10.210601Z",
     "shell.execute_reply": "2021-12-04T15:52:10.211226Z",
     "shell.execute_reply.started": "2021-12-04T15:23:07.682964Z"
    },
    "papermill": {
     "duration": 0.036984,
     "end_time": "2021-12-04T15:52:10.211395",
     "exception": false,
     "start_time": "2021-12-04T15:52:10.174411",
     "status": "completed"
    },
    "tags": []
   },
   "outputs": [
    {
     "data": {
      "text/plain": [
       "(1094, 76)"
      ]
     },
     "execution_count": 8,
     "metadata": {},
     "output_type": "execute_result"
    }
   ],
   "source": [
    "# Check the dimension of the dataset\n",
    "df.shape"
   ]
  },
  {
   "cell_type": "markdown",
   "id": "11eb0b7b",
   "metadata": {
    "papermill": {
     "duration": 0.028281,
     "end_time": "2021-12-04T15:52:10.268181",
     "exception": false,
     "start_time": "2021-12-04T15:52:10.239900",
     "status": "completed"
    },
    "tags": []
   },
   "source": [
    "The dataset is cleaned. It now has 1094 observations and 76 features."
   ]
  },
  {
   "cell_type": "markdown",
   "id": "a146fd45",
   "metadata": {
    "papermill": {
     "duration": 0.028123,
     "end_time": "2021-12-04T15:52:10.324672",
     "exception": false,
     "start_time": "2021-12-04T15:52:10.296549",
     "status": "completed"
    },
    "tags": []
   },
   "source": [
    "## Exploring Data\n",
    "\n",
    "Let's examine the data distributions of the features. We will start with the target variable, **SalePrice**, to make sure it's normal distribute.d This is an important step because most Machine Learning algorithms make the assumption that the data is normal distributed. When data fits a normal distribution, we can make statements about the population using analytical techniques."
   ]
  },
  {
   "cell_type": "code",
   "execution_count": 9,
   "id": "746d9905",
   "metadata": {
    "execution": {
     "iopub.execute_input": "2021-12-04T15:52:10.385410Z",
     "iopub.status.busy": "2021-12-04T15:52:10.384419Z",
     "iopub.status.idle": "2021-12-04T15:52:10.711891Z",
     "shell.execute_reply": "2021-12-04T15:52:10.711359Z",
     "shell.execute_reply.started": "2021-12-04T15:23:19.722495Z"
    },
    "papermill": {
     "duration": 0.358939,
     "end_time": "2021-12-04T15:52:10.712066",
     "exception": false,
     "start_time": "2021-12-04T15:52:10.353127",
     "status": "completed"
    },
    "tags": []
   },
   "outputs": [
    {
     "name": "stderr",
     "output_type": "stream",
     "text": [
      "/opt/conda/lib/python3.7/site-packages/seaborn/distributions.py:2619: FutureWarning: `distplot` is a deprecated function and will be removed in a future version. Please adapt your code to use either `displot` (a figure-level function with similar flexibility) or `histplot` (an axes-level function for histograms).\n",
      "  warnings.warn(msg, FutureWarning)\n"
     ]
    },
    {
     "data": {
      "image/png": "[encoded data removed]",
      "text/plain": [
       "<Figure size 432x288 with 1 Axes>"
      ]
     },
     "metadata": {
      "needs_background": "light"
     },
     "output_type": "display_data"
    }
   ],
   "source": [
    "# Check distribution of target variable\n",
    "sns.distplot(df.SalePrice)\n",
    "plt.show()"
   ]
  },
  {
   "cell_type": "markdown",
   "id": "7e21a880",
   "metadata": {
    "papermill": {
     "duration": 0.029446,
     "end_time": "2021-12-04T15:52:10.771722",
     "exception": false,
     "start_time": "2021-12-04T15:52:10.742276",
     "status": "completed"
    },
    "tags": []
   },
   "source": [
    "We can see the SalePrice distribution is skewed to the right. Let's transform it so that it follows a gaussian normal distribution."
   ]
  },
  {
   "cell_type": "code",
   "execution_count": 10,
   "id": "9bba0a20",
   "metadata": {
    "execution": {
     "iopub.execute_input": "2021-12-04T15:52:10.834449Z",
     "iopub.status.busy": "2021-12-04T15:52:10.833639Z",
     "iopub.status.idle": "2021-12-04T15:52:11.103399Z",
     "shell.execute_reply": "2021-12-04T15:52:11.103895Z",
     "shell.execute_reply.started": "2021-12-04T15:23:24.815462Z"
    },
    "papermill": {
     "duration": 0.302834,
     "end_time": "2021-12-04T15:52:11.104089",
     "exception": false,
     "start_time": "2021-12-04T15:52:10.801255",
     "status": "completed"
    },
    "tags": []
   },
   "outputs": [
    {
     "name": "stderr",
     "output_type": "stream",
     "text": [
      "/opt/conda/lib/python3.7/site-packages/seaborn/distributions.py:2619: FutureWarning: `distplot` is a deprecated function and will be removed in a future version. Please adapt your code to use either `displot` (a figure-level function with similar flexibility) or `histplot` (an axes-level function for histograms).\n",
      "  warnings.warn(msg, FutureWarning)\n"
     ]
    },
    {
     "data": {
      "image/png": "[encoded data removed]",
      "text/plain": [
       "<Figure size 432x288 with 1 Axes>"
      ]
     },
     "metadata": {
      "needs_background": "light"
     },
     "output_type": "display_data"
    }
   ],
   "source": [
    "sns.distplot(np.log(df.SalePrice))\n",
    "plt.show()"
   ]
  },
  {
   "cell_type": "markdown",
   "id": "f58cf289",
   "metadata": {
    "papermill": {
     "duration": 0.030425,
     "end_time": "2021-12-04T15:52:11.165448",
     "exception": false,
     "start_time": "2021-12-04T15:52:11.135023",
     "status": "completed"
    },
    "tags": []
   },
   "source": [
    "The data is now more normal distributed. We can use this transformed data in the dataframe and remove the skewed distribution."
   ]
  },
  {
   "cell_type": "code",
   "execution_count": 11,
   "id": "d6b99cab",
   "metadata": {
    "execution": {
     "iopub.execute_input": "2021-12-04T15:52:11.229814Z",
     "iopub.status.busy": "2021-12-04T15:52:11.229166Z",
     "iopub.status.idle": "2021-12-04T15:52:11.235504Z",
     "shell.execute_reply": "2021-12-04T15:52:11.236074Z",
     "shell.execute_reply.started": "2021-12-04T15:23:26.300257Z"
    },
    "papermill": {
     "duration": 0.040106,
     "end_time": "2021-12-04T15:52:11.236245",
     "exception": false,
     "start_time": "2021-12-04T15:52:11.196139",
     "status": "completed"
    },
    "tags": []
   },
   "outputs": [],
   "source": [
    "df['LogOfPrice'] = np.log(df.SalePrice)\n",
    "df.drop(['SalePrice'], axis=1, inplace=True)"
   ]
  },
  {
   "cell_type": "markdown",
   "id": "c488469a",
   "metadata": {
    "execution": {
     "iopub.execute_input": "2021-12-04T04:44:37.025825Z",
     "iopub.status.busy": "2021-12-04T04:44:37.025202Z",
     "iopub.status.idle": "2021-12-04T04:44:37.031183Z",
     "shell.execute_reply": "2021-12-04T04:44:37.030555Z",
     "shell.execute_reply.started": "2021-12-04T04:44:37.025785Z"
    },
    "papermill": {
     "duration": 0.03038,
     "end_time": "2021-12-04T15:52:11.297635",
     "exception": false,
     "start_time": "2021-12-04T15:52:11.267255",
     "status": "completed"
    },
    "tags": []
   },
   "source": [
    "## Train-Test Split Dataset\n",
    "\n",
    "Before we can start modeling the data, we need to split the dataset into training and test sets. We will train the models with the training set and cross-validate with the test set. Recall we have lots of features in the dataset that are text. most machine learning models require numerical input features. Since the process of converting text features to a numeric representation an involved task, we will only use the numeric features in our price prediction (for simplicity sake)."
   ]
  },
  {
   "cell_type": "code",
   "execution_count": 12,
   "id": "1b012627",
   "metadata": {
    "execution": {
     "iopub.execute_input": "2021-12-04T15:52:11.362317Z",
     "iopub.status.busy": "2021-12-04T15:52:11.361682Z",
     "iopub.status.idle": "2021-12-04T15:52:11.369477Z",
     "shell.execute_reply": "2021-12-04T15:52:11.368976Z",
     "shell.execute_reply.started": "2021-12-04T15:23:31.132303Z"
    },
    "papermill": {
     "duration": 0.040932,
     "end_time": "2021-12-04T15:52:11.369657",
     "exception": false,
     "start_time": "2021-12-04T15:52:11.328725",
     "status": "completed"
    },
    "tags": []
   },
   "outputs": [],
   "source": [
    "# set the target and predictors\n",
    "\n",
    "y = df.LogOfPrice  # target\n",
    "\n",
    "# use only those input features with numeric data type\n",
    "df_temp = df.select_dtypes(include=['int64', 'float64'])\n",
    "X = df_temp.drop(['LogOfPrice'], axis=1) # predictors"
   ]
  },
  {
   "cell_type": "markdown",
   "id": "a06863a4",
   "metadata": {
    "papermill": {
     "duration": 0.030539,
     "end_time": "2021-12-04T15:52:11.431190",
     "exception": false,
     "start_time": "2021-12-04T15:52:11.400651",
     "status": "completed"
    },
    "tags": []
   },
   "source": [
    "To split the dataset, we will use random sampling with 75/25 train-test split; that is, we'll use 75% of the dataset for training and set aside 25% for testing:"
   ]
  },
  {
   "cell_type": "code",
   "execution_count": 13,
   "id": "0cfc97b7",
   "metadata": {
    "execution": {
     "iopub.execute_input": "2021-12-04T15:52:11.500595Z",
     "iopub.status.busy": "2021-12-04T15:52:11.499879Z",
     "iopub.status.idle": "2021-12-04T15:52:11.503350Z",
     "shell.execute_reply": "2021-12-04T15:52:11.502775Z",
     "shell.execute_reply.started": "2021-12-04T15:23:33.112797Z"
    },
    "papermill": {
     "duration": 0.041551,
     "end_time": "2021-12-04T15:52:11.503492",
     "exception": false,
     "start_time": "2021-12-04T15:52:11.461941",
     "status": "completed"
    },
    "tags": []
   },
   "outputs": [],
   "source": [
    "# split the dataset into training and testing sets\n",
    "X_train, X_test, y_train, y_test = train_test_split(X, y, test_size=.25, random_state=3)"
   ]
  },
  {
   "cell_type": "markdown",
   "id": "54b3397b",
   "metadata": {
    "papermill": {
     "duration": 0.031258,
     "end_time": "2021-12-04T15:52:11.566915",
     "exception": false,
     "start_time": "2021-12-04T15:52:11.535657",
     "status": "completed"
    },
    "tags": []
   },
   "source": [
    "## Linear Regression"
   ]
  },
  {
   "cell_type": "code",
   "execution_count": 14,
   "id": "5aa1457b",
   "metadata": {
    "execution": {
     "iopub.execute_input": "2021-12-04T15:52:11.635921Z",
     "iopub.status.busy": "2021-12-04T15:52:11.635278Z",
     "iopub.status.idle": "2021-12-04T15:52:11.654848Z",
     "shell.execute_reply": "2021-12-04T15:52:11.653964Z",
     "shell.execute_reply.started": "2021-12-04T15:23:45.405483Z"
    },
    "papermill": {
     "duration": 0.056635,
     "end_time": "2021-12-04T15:52:11.655090",
     "exception": false,
     "start_time": "2021-12-04T15:52:11.598455",
     "status": "completed"
    },
    "tags": []
   },
   "outputs": [
    {
     "data": {
      "text/plain": [
       "LinearRegression()"
      ]
     },
     "execution_count": 14,
     "metadata": {},
     "output_type": "execute_result"
    }
   ],
   "source": [
    "lr = LinearRegression()\n",
    "# fit optimal linear regression line on training data, this performs gradient decent under the hood\n",
    "lr.fit(X_train, y_train)"
   ]
  },
  {
   "cell_type": "code",
   "execution_count": 15,
   "id": "ded55bca",
   "metadata": {
    "execution": {
     "iopub.execute_input": "2021-12-04T15:52:11.776993Z",
     "iopub.status.busy": "2021-12-04T15:52:11.773906Z",
     "iopub.status.idle": "2021-12-04T15:52:11.778812Z",
     "shell.execute_reply": "2021-12-04T15:52:11.779620Z",
     "shell.execute_reply.started": "2021-12-04T15:23:49.638024Z"
    },
    "papermill": {
     "duration": 0.067347,
     "end_time": "2021-12-04T15:52:11.779895",
     "exception": false,
     "start_time": "2021-12-04T15:52:11.712548",
     "status": "completed"
    },
    "tags": []
   },
   "outputs": [],
   "source": [
    "# given our model and out fit, predict y_values using X_test set\n",
    "\n",
    "yr_hat = lr.predict(X_test)"
   ]
  },
  {
   "cell_type": "code",
   "execution_count": 16,
   "id": "1e81ff3c",
   "metadata": {
    "execution": {
     "iopub.execute_input": "2021-12-04T15:52:11.902914Z",
     "iopub.status.busy": "2021-12-04T15:52:11.901680Z",
     "iopub.status.idle": "2021-12-04T15:52:11.906245Z",
     "shell.execute_reply": "2021-12-04T15:52:11.907357Z",
     "shell.execute_reply.started": "2021-12-04T15:23:57.936463Z"
    },
    "papermill": {
     "duration": 0.069815,
     "end_time": "2021-12-04T15:52:11.907656",
     "exception": false,
     "start_time": "2021-12-04T15:52:11.837841",
     "status": "completed"
    },
    "tags": []
   },
   "outputs": [
    {
     "name": "stdout",
     "output_type": "stream",
     "text": [
      "Accuracy:  0.886663711473874\n"
     ]
    }
   ],
   "source": [
    "# evaluate the algorithm with a test set\n",
    "lr_score = lr.score(X_test, y_test)\n",
    "print(\"Accuracy: \", lr_score)"
   ]
  },
  {
   "cell_type": "markdown",
   "id": "966e81b3",
   "metadata": {
    "papermill": {
     "duration": 0.056921,
     "end_time": "2021-12-04T15:52:12.025147",
     "exception": false,
     "start_time": "2021-12-04T15:52:11.968226",
     "status": "completed"
    },
    "tags": []
   },
   "source": [
    "Let's see how well the train-test split method performed. We will do cross-validation to see whether the model is over-fitting the data:"
   ]
  },
  {
   "cell_type": "code",
   "execution_count": 17,
   "id": "5418d567",
   "metadata": {
    "execution": {
     "iopub.execute_input": "2021-12-04T15:52:12.095482Z",
     "iopub.status.busy": "2021-12-04T15:52:12.094810Z",
     "iopub.status.idle": "2021-12-04T15:52:12.148368Z",
     "shell.execute_reply": "2021-12-04T15:52:12.149412Z",
     "shell.execute_reply.started": "2021-12-04T15:28:22.047164Z"
    },
    "papermill": {
     "duration": 0.092577,
     "end_time": "2021-12-04T15:52:12.149705",
     "exception": false,
     "start_time": "2021-12-04T15:52:12.057128",
     "status": "completed"
    },
    "tags": []
   },
   "outputs": [
    {
     "name": "stdout",
     "output_type": "stream",
     "text": [
      "Cross-validation results:  [0.88426462 0.83605032 0.86145344 0.89201551 0.6154792 ]\n",
      "R2:  0.8178526186867081\n"
     ]
    }
   ],
   "source": [
    "# cross validation to find 'validate' score across multiple samples, automatically does Kfold stratifying\n",
    "\n",
    "lr_cv = cross_val_score(lr, X, y, cv=5, scoring = 'r2')\n",
    "print(\"Cross-validation results: \", lr_cv)\n",
    "print(\"R2: \", lr_cv.mean())"
   ]
  },
  {
   "cell_type": "markdown",
   "id": "7d80407d",
   "metadata": {
    "papermill": {
     "duration": 0.05503,
     "end_time": "2021-12-04T15:52:12.263772",
     "exception": false,
     "start_time": "2021-12-04T15:52:12.208742",
     "status": "completed"
    },
    "tags": []
   },
   "source": [
    "It doesn't appear that for this train-test dataset, the model is not over-fitting the data (the cross-validation performance is very close in value). It may be a slightly over-fitted but we can't really tell by the R-squared metric alone. If it is over-fitted, we can do some data transforms or feature engineering to improve its performance. But our main objective initially is to spot-check a few algorithms and fine tune the model later on.\n",
    "\n",
    "To help prevent over-fitting in which may result from simple linear regression, we can use regression moedls with regularization. Let's look at ridge and lasso next."
   ]
  },
  {
   "cell_type": "markdown",
   "id": "10de8902",
   "metadata": {
    "papermill": {
     "duration": 0.031542,
     "end_time": "2021-12-04T15:52:12.327233",
     "exception": false,
     "start_time": "2021-12-04T15:52:12.295691",
     "status": "completed"
    },
    "tags": []
   },
   "source": [
    "## Random Forest"
   ]
  },
  {
   "cell_type": "code",
   "execution_count": 18,
   "id": "68b1f1fe",
   "metadata": {
    "execution": {
     "iopub.execute_input": "2021-12-04T15:52:12.397537Z",
     "iopub.status.busy": "2021-12-04T15:52:12.396843Z",
     "iopub.status.idle": "2021-12-04T15:52:18.554881Z",
     "shell.execute_reply": "2021-12-04T15:52:18.554315Z",
     "shell.execute_reply.started": "2021-12-04T15:33:02.956149Z"
    },
    "papermill": {
     "duration": 6.196158,
     "end_time": "2021-12-04T15:52:18.555037",
     "exception": false,
     "start_time": "2021-12-04T15:52:12.358879",
     "status": "completed"
    },
    "tags": []
   },
   "outputs": [
    {
     "name": "stdout",
     "output_type": "stream",
     "text": [
      "R2:  0.8605049025069975\n"
     ]
    }
   ],
   "source": [
    "#rfr = RandomFoRandomForestRegressor (n_estimators=100, max_depth=5, min_samples_leaf=5, max_features='sqrt') # using GridSearch\n",
    "\n",
    "rfr = RandomForestRegressor()\n",
    "rfr.fit(X_train, y_train) # gets the parameters for the rfr model\n",
    "rfr_cv = cross_val_score(rfr, X, y, cv=5, scoring='r2')\n",
    "print(\"R2: \", rfr_cv.mean())"
   ]
  },
  {
   "cell_type": "markdown",
   "id": "0f580854",
   "metadata": {
    "papermill": {
     "duration": 0.032307,
     "end_time": "2021-12-04T15:52:18.619755",
     "exception": false,
     "start_time": "2021-12-04T15:52:18.587448",
     "status": "completed"
    },
    "tags": []
   },
   "source": [
    "Random Forest is an advanced decision tree based machine learning. It has a classification and a regression random forest algorithm. Its performance is slightly better than regression. Like regularization, we can optimize the model parameters for best performance using gridsearch."
   ]
  },
  {
   "cell_type": "code",
   "execution_count": 19,
   "id": "3ae77389",
   "metadata": {
    "execution": {
     "iopub.execute_input": "2021-12-04T15:52:18.689406Z",
     "iopub.status.busy": "2021-12-04T15:52:18.688720Z",
     "iopub.status.idle": "2021-12-04T15:52:18.701683Z",
     "shell.execute_reply": "2021-12-04T15:52:18.702266Z",
     "shell.execute_reply.started": "2021-12-04T15:35:56.481648Z"
    },
    "papermill": {
     "duration": 0.050607,
     "end_time": "2021-12-04T15:52:18.702435",
     "exception": false,
     "start_time": "2021-12-04T15:52:18.651828",
     "status": "completed"
    },
    "tags": []
   },
   "outputs": [
    {
     "data": {
      "text/plain": [
       "array([6.73462475e-03, 3.08982537e-03, 1.23160182e-02, 1.80511123e-02,\n",
       "       5.79133886e-01, 1.87063031e-02, 1.62903313e-02, 2.98670743e-02,\n",
       "       3.48253646e-03, 2.23513226e-02, 4.53750462e-04, 6.65884777e-03,\n",
       "       3.73745906e-02, 3.63018704e-02, 1.06682197e-02, 3.20247419e-05,\n",
       "       8.96974762e-02, 1.04155637e-03, 3.00006854e-04, 5.22013614e-03,\n",
       "       1.17857692e-03, 1.59457155e-03, 1.25891123e-03, 3.25013584e-03,\n",
       "       3.74236577e-03, 7.94500219e-03, 3.88263004e-02, 1.99900424e-02,\n",
       "       4.99087722e-03, 6.69922539e-03, 2.86341369e-03, 3.01118454e-04,\n",
       "       6.04871261e-04, 3.12164014e-04, 9.43152299e-04, 5.19970596e-03,\n",
       "       2.52805162e-03])"
      ]
     },
     "execution_count": 19,
     "metadata": {},
     "output_type": "execute_result"
    }
   ],
   "source": [
    "# Random forest determined feature importances\n",
    "rfr.feature_importances_"
   ]
  },
  {
   "cell_type": "markdown",
   "id": "1da47688",
   "metadata": {
    "papermill": {
     "duration": 0.032075,
     "end_time": "2021-12-04T15:52:18.766807",
     "exception": false,
     "start_time": "2021-12-04T15:52:18.734732",
     "status": "completed"
    },
    "tags": []
   },
   "source": [
    "## Plotting the Feature Importance\n",
    "\n",
    "Let's see the features that are the most promissing predictors:"
   ]
  },
  {
   "cell_type": "code",
   "execution_count": 20,
   "id": "dfdc77c8",
   "metadata": {
    "execution": {
     "iopub.execute_input": "2021-12-04T15:52:18.840545Z",
     "iopub.status.busy": "2021-12-04T15:52:18.835819Z",
     "iopub.status.idle": "2021-12-04T15:52:18.852202Z",
     "shell.execute_reply": "2021-12-04T15:52:18.852724Z",
     "shell.execute_reply.started": "2021-12-04T15:42:21.244341Z"
    },
    "papermill": {
     "duration": 0.052396,
     "end_time": "2021-12-04T15:52:18.852891",
     "exception": false,
     "start_time": "2021-12-04T15:52:18.800495",
     "status": "completed"
    },
    "tags": []
   },
   "outputs": [
    {
     "name": "stdout",
     "output_type": "stream",
     "text": [
      "['OverallQual', 'GrLivArea', 'GarageCars', 'TotalBsmtSF', '1stFlrSF', 'YearRemodAdd', 'BsmtFinSF1', 'GarageArea', 'OverallCond', 'LotArea']\n"
     ]
    }
   ],
   "source": [
    "importance = rfr.feature_importances_\n",
    "\n",
    "# map feature importance values to the features\n",
    "\n",
    "feature_importances = zip(importance, X.columns)\n",
    "# list(feature_importances_)\n",
    "\n",
    "sorted_featured_importances = sorted(feature_importances, reverse=True)\n",
    "#print(sorted_featuredfeature_importances)\n",
    "\n",
    "top_10_predictors = sorted_featured_importances[0:10]\n",
    "values = [value for value, predictors in top_10_predictors]\n",
    "predictors = [predictors for value, predictors in top_10_predictors]\n",
    "print(predictors)"
   ]
  },
  {
   "cell_type": "code",
   "execution_count": 21,
   "id": "f8db9526",
   "metadata": {
    "execution": {
     "iopub.execute_input": "2021-12-04T15:52:18.924726Z",
     "iopub.status.busy": "2021-12-04T15:52:18.922187Z",
     "iopub.status.idle": "2021-12-04T15:52:19.133828Z",
     "shell.execute_reply": "2021-12-04T15:52:19.134368Z",
     "shell.execute_reply.started": "2021-12-04T15:44:08.887622Z"
    },
    "papermill": {
     "duration": 0.248387,
     "end_time": "2021-12-04T15:52:19.134558",
     "exception": false,
     "start_time": "2021-12-04T15:52:18.886171",
     "status": "completed"
    },
    "tags": []
   },
   "outputs": [
    {
     "data": {
      "image/png": "[encoded data removed]",
      "text/plain": [
       "<Figure size 432x288 with 1 Axes>"
      ]
     },
     "metadata": {
      "needs_background": "light"
     },
     "output_type": "display_data"
    }
   ],
   "source": [
    "# Plot the feature importance of the forest\n",
    "plt.figure()\n",
    "plt.title(\"Feature importances\")\n",
    "plt.bar(range(len(predictors)), values, color=\"r\", align=\"center\")\n",
    "plt.xticks(range(len(predictors)), predictors, rotation=90)\n",
    "plt.show()"
   ]
  },
  {
   "cell_type": "code",
   "execution_count": 22,
   "id": "2dcca629",
   "metadata": {
    "execution": {
     "iopub.execute_input": "2021-12-04T15:52:19.209395Z",
     "iopub.status.busy": "2021-12-04T15:52:19.205791Z",
     "iopub.status.idle": "2021-12-04T15:52:19.261303Z",
     "shell.execute_reply": "2021-12-04T15:52:19.261984Z",
     "shell.execute_reply.started": "2021-12-04T15:49:28.590607Z"
    },
    "papermill": {
     "duration": 0.093833,
     "end_time": "2021-12-04T15:52:19.262225",
     "exception": false,
     "start_time": "2021-12-04T15:52:19.168392",
     "status": "completed"
    },
    "tags": []
   },
   "outputs": [
    {
     "name": "stdout",
     "output_type": "stream",
     "text": [
      "The price of the house 1 is: 126375.16371712391$\n",
      "The price of the house 2 is: 345535.58509693673$\n",
      "The price of the house 3 is: 243440.3123014887$\n",
      "The price of the house 4 is: 91381.21006149794$\n",
      "The price of the house 5 is: 101502.20066387723$\n",
      "The price of the house 6 is: 141243.2739317435$\n",
      "The price of the house 7 is: 105873.79967465803$\n",
      "The price of the house 8 is: 139737.34716063307$\n",
      "The price of the house 9 is: 128181.2806571667$\n",
      "The price of the house 10 is: 231651.79607900188$\n"
     ]
    }
   ],
   "source": [
    "test = pd.read_csv('/kaggle/input/house-prices-advanced-regression-techniques/test.csv')\n",
    "test = test.select_dtypes(include=['int64', 'float64'])\n",
    "test.dropna(inplace=True)\n",
    "y_pre = rfr.predict(test[100:110])\n",
    "count=0\n",
    "for i in y_pre:\n",
    "    count+=1\n",
    "    print('The price of the house ' + str(count) + ' is: '  + str(np.exp(i)) + '$')"
   ]
  },
  {
   "cell_type": "markdown",
   "id": "28ce269f",
   "metadata": {
    "papermill": {
     "duration": 0.033868,
     "end_time": "2021-12-04T15:52:19.331327",
     "exception": false,
     "start_time": "2021-12-04T15:52:19.297459",
     "status": "completed"
    },
    "tags": []
   },
   "source": [
    "## Conclusion\n",
    "\n",
    "Random Forest is the most accurate model for predicting the house price. It scored an estimated accuracy of 85%, outperforming the Linear Regression's accuracy (81%)."
   ]
  }
 ],
 "metadata": {
  "kernelspec": {
   "display_name": "Python 3",
   "language": "python",
   "name": "python3"
  },
  "language_info": {
   "codemirror_mode": {
    "name": "ipython",
    "version": 3
   },
   "file_extension": ".py",
   "mimetype": "text/x-python",
   "name": "python",
   "nbconvert_exporter": "python",
   "pygments_lexer": "ipython3",
   "version": "3.7.12"
  },
  "papermill": {
   "default_parameters": {},
   "duration": 22.174823,
   "end_time": "2021-12-04T15:52:20.075589",
   "environment_variables": {},
   "exception": null,
   "input_path": "__notebook__.ipynb",
   "output_path": "__notebook__.ipynb",
   "parameters": {},
   "start_time": "2021-12-04T15:51:57.900766",
   "version": "2.3.3"
  }
 },
 "nbformat": 4,
 "nbformat_minor": 5
}
